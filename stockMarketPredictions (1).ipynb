{
 "cells": [
  {
   "cell_type": "code",
   "execution_count": 193,
   "id": "6edb19d8-03bb-43ad-ba2e-b734d1464e7e",
   "metadata": {},
   "outputs": [],
   "source": [
    "import yfinance as yf"
   ]
  },
  {
   "cell_type": "code",
   "execution_count": 194,
   "id": "1567711a-a9c5-43ad-b1dc-501719c1a740",
   "metadata": {},
   "outputs": [],
   "source": [
    "# Get the sp500 stock and get all of its history"
   ]
  },
  {
   "cell_type": "code",
   "execution_count": 195,
   "id": "6a6277fb-1a5a-44ee-adcb-a02e2b0f5510",
   "metadata": {},
   "outputs": [],
   "source": [
    "sp500 = yf.Ticker(\"^GSPC\")"
   ]
  },
  {
   "cell_type": "code",
   "execution_count": 196,
   "id": "6dd86b28-f208-4aea-b9ad-e7f7afc48b3a",
   "metadata": {
    "tags": []
   },
   "outputs": [],
   "source": [
    "sp500 = sp500.history(period=\"max\")"
   ]
  },
  {
   "cell_type": "code",
   "execution_count": 197,
   "id": "6f76155e-ebc3-4c6f-9d7c-5fc2384884c1",
   "metadata": {
    "tags": []
   },
   "outputs": [
    {
     "data": {
      "text/html": [
       "<div>\n",
       "<style scoped>\n",
       "    .dataframe tbody tr th:only-of-type {\n",
       "        vertical-align: middle;\n",
       "    }\n",
       "\n",
       "    .dataframe tbody tr th {\n",
       "        vertical-align: top;\n",
       "    }\n",
       "\n",
       "    .dataframe thead th {\n",
       "        text-align: right;\n",
       "    }\n",
       "</style>\n",
       "<table border=\"1\" class=\"dataframe\">\n",
       "  <thead>\n",
       "    <tr style=\"text-align: right;\">\n",
       "      <th></th>\n",
       "      <th>Open</th>\n",
       "      <th>High</th>\n",
       "      <th>Low</th>\n",
       "      <th>Close</th>\n",
       "      <th>Volume</th>\n",
       "      <th>Dividends</th>\n",
       "      <th>Stock Splits</th>\n",
       "    </tr>\n",
       "    <tr>\n",
       "      <th>Date</th>\n",
       "      <th></th>\n",
       "      <th></th>\n",
       "      <th></th>\n",
       "      <th></th>\n",
       "      <th></th>\n",
       "      <th></th>\n",
       "      <th></th>\n",
       "    </tr>\n",
       "  </thead>\n",
       "  <tbody>\n",
       "    <tr>\n",
       "      <th>1927-12-30 00:00:00-05:00</th>\n",
       "      <td>17.660000</td>\n",
       "      <td>17.660000</td>\n",
       "      <td>17.660000</td>\n",
       "      <td>17.660000</td>\n",
       "      <td>0</td>\n",
       "      <td>0.0</td>\n",
       "      <td>0.0</td>\n",
       "    </tr>\n",
       "    <tr>\n",
       "      <th>1928-01-03 00:00:00-05:00</th>\n",
       "      <td>17.760000</td>\n",
       "      <td>17.760000</td>\n",
       "      <td>17.760000</td>\n",
       "      <td>17.760000</td>\n",
       "      <td>0</td>\n",
       "      <td>0.0</td>\n",
       "      <td>0.0</td>\n",
       "    </tr>\n",
       "    <tr>\n",
       "      <th>1928-01-04 00:00:00-05:00</th>\n",
       "      <td>17.719999</td>\n",
       "      <td>17.719999</td>\n",
       "      <td>17.719999</td>\n",
       "      <td>17.719999</td>\n",
       "      <td>0</td>\n",
       "      <td>0.0</td>\n",
       "      <td>0.0</td>\n",
       "    </tr>\n",
       "    <tr>\n",
       "      <th>1928-01-05 00:00:00-05:00</th>\n",
       "      <td>17.549999</td>\n",
       "      <td>17.549999</td>\n",
       "      <td>17.549999</td>\n",
       "      <td>17.549999</td>\n",
       "      <td>0</td>\n",
       "      <td>0.0</td>\n",
       "      <td>0.0</td>\n",
       "    </tr>\n",
       "    <tr>\n",
       "      <th>1928-01-06 00:00:00-05:00</th>\n",
       "      <td>17.660000</td>\n",
       "      <td>17.660000</td>\n",
       "      <td>17.660000</td>\n",
       "      <td>17.660000</td>\n",
       "      <td>0</td>\n",
       "      <td>0.0</td>\n",
       "      <td>0.0</td>\n",
       "    </tr>\n",
       "    <tr>\n",
       "      <th>...</th>\n",
       "      <td>...</td>\n",
       "      <td>...</td>\n",
       "      <td>...</td>\n",
       "      <td>...</td>\n",
       "      <td>...</td>\n",
       "      <td>...</td>\n",
       "      <td>...</td>\n",
       "    </tr>\n",
       "    <tr>\n",
       "      <th>2023-04-27 00:00:00-04:00</th>\n",
       "      <td>4075.290039</td>\n",
       "      <td>4138.240234</td>\n",
       "      <td>4075.290039</td>\n",
       "      <td>4135.350098</td>\n",
       "      <td>3750550000</td>\n",
       "      <td>0.0</td>\n",
       "      <td>0.0</td>\n",
       "    </tr>\n",
       "    <tr>\n",
       "      <th>2023-04-28 00:00:00-04:00</th>\n",
       "      <td>4129.629883</td>\n",
       "      <td>4170.060059</td>\n",
       "      <td>4127.180176</td>\n",
       "      <td>4169.479980</td>\n",
       "      <td>4087800000</td>\n",
       "      <td>0.0</td>\n",
       "      <td>0.0</td>\n",
       "    </tr>\n",
       "    <tr>\n",
       "      <th>2023-05-01 00:00:00-04:00</th>\n",
       "      <td>4166.790039</td>\n",
       "      <td>4186.919922</td>\n",
       "      <td>4164.120117</td>\n",
       "      <td>4167.870117</td>\n",
       "      <td>3321370000</td>\n",
       "      <td>0.0</td>\n",
       "      <td>0.0</td>\n",
       "    </tr>\n",
       "    <tr>\n",
       "      <th>2023-05-02 00:00:00-04:00</th>\n",
       "      <td>4164.100098</td>\n",
       "      <td>4164.100098</td>\n",
       "      <td>4089.719971</td>\n",
       "      <td>4119.580078</td>\n",
       "      <td>4486130000</td>\n",
       "      <td>0.0</td>\n",
       "      <td>0.0</td>\n",
       "    </tr>\n",
       "    <tr>\n",
       "      <th>2023-05-03 00:00:00-04:00</th>\n",
       "      <td>4122.250000</td>\n",
       "      <td>4143.930176</td>\n",
       "      <td>4114.299805</td>\n",
       "      <td>4134.310059</td>\n",
       "      <td>1596011000</td>\n",
       "      <td>0.0</td>\n",
       "      <td>0.0</td>\n",
       "    </tr>\n",
       "  </tbody>\n",
       "</table>\n",
       "<p>23949 rows × 7 columns</p>\n",
       "</div>"
      ],
      "text/plain": [
       "                                  Open         High          Low        Close   \n",
       "Date                                                                            \n",
       "1927-12-30 00:00:00-05:00    17.660000    17.660000    17.660000    17.660000  \\\n",
       "1928-01-03 00:00:00-05:00    17.760000    17.760000    17.760000    17.760000   \n",
       "1928-01-04 00:00:00-05:00    17.719999    17.719999    17.719999    17.719999   \n",
       "1928-01-05 00:00:00-05:00    17.549999    17.549999    17.549999    17.549999   \n",
       "1928-01-06 00:00:00-05:00    17.660000    17.660000    17.660000    17.660000   \n",
       "...                                ...          ...          ...          ...   \n",
       "2023-04-27 00:00:00-04:00  4075.290039  4138.240234  4075.290039  4135.350098   \n",
       "2023-04-28 00:00:00-04:00  4129.629883  4170.060059  4127.180176  4169.479980   \n",
       "2023-05-01 00:00:00-04:00  4166.790039  4186.919922  4164.120117  4167.870117   \n",
       "2023-05-02 00:00:00-04:00  4164.100098  4164.100098  4089.719971  4119.580078   \n",
       "2023-05-03 00:00:00-04:00  4122.250000  4143.930176  4114.299805  4134.310059   \n",
       "\n",
       "                               Volume  Dividends  Stock Splits  \n",
       "Date                                                            \n",
       "1927-12-30 00:00:00-05:00           0        0.0           0.0  \n",
       "1928-01-03 00:00:00-05:00           0        0.0           0.0  \n",
       "1928-01-04 00:00:00-05:00           0        0.0           0.0  \n",
       "1928-01-05 00:00:00-05:00           0        0.0           0.0  \n",
       "1928-01-06 00:00:00-05:00           0        0.0           0.0  \n",
       "...                               ...        ...           ...  \n",
       "2023-04-27 00:00:00-04:00  3750550000        0.0           0.0  \n",
       "2023-04-28 00:00:00-04:00  4087800000        0.0           0.0  \n",
       "2023-05-01 00:00:00-04:00  3321370000        0.0           0.0  \n",
       "2023-05-02 00:00:00-04:00  4486130000        0.0           0.0  \n",
       "2023-05-03 00:00:00-04:00  1596011000        0.0           0.0  \n",
       "\n",
       "[23949 rows x 7 columns]"
      ]
     },
     "execution_count": 197,
     "metadata": {},
     "output_type": "execute_result"
    }
   ],
   "source": [
    "sp500"
   ]
  },
  {
   "cell_type": "code",
   "execution_count": 198,
   "id": "d0c468e4-71bf-4abf-85f3-18c73dd8350b",
   "metadata": {
    "tags": []
   },
   "outputs": [
    {
     "data": {
      "text/plain": [
       "DatetimeIndex(['1927-12-30 00:00:00-05:00', '1928-01-03 00:00:00-05:00',\n",
       "               '1928-01-04 00:00:00-05:00', '1928-01-05 00:00:00-05:00',\n",
       "               '1928-01-06 00:00:00-05:00', '1928-01-09 00:00:00-05:00',\n",
       "               '1928-01-10 00:00:00-05:00', '1928-01-11 00:00:00-05:00',\n",
       "               '1928-01-12 00:00:00-05:00', '1928-01-13 00:00:00-05:00',\n",
       "               ...\n",
       "               '2023-04-20 00:00:00-04:00', '2023-04-21 00:00:00-04:00',\n",
       "               '2023-04-24 00:00:00-04:00', '2023-04-25 00:00:00-04:00',\n",
       "               '2023-04-26 00:00:00-04:00', '2023-04-27 00:00:00-04:00',\n",
       "               '2023-04-28 00:00:00-04:00', '2023-05-01 00:00:00-04:00',\n",
       "               '2023-05-02 00:00:00-04:00', '2023-05-03 00:00:00-04:00'],\n",
       "              dtype='datetime64[ns, America/New_York]', name='Date', length=23949, freq=None)"
      ]
     },
     "execution_count": 198,
     "metadata": {},
     "output_type": "execute_result"
    }
   ],
   "source": [
    "sp500.index"
   ]
  },
  {
   "cell_type": "code",
   "execution_count": 199,
   "id": "0e51cde1-6fff-4116-a51c-533de725dfff",
   "metadata": {
    "tags": []
   },
   "outputs": [
    {
     "data": {
      "text/plain": [
       "<Axes: xlabel='Date'>"
      ]
     },
     "execution_count": 199,
     "metadata": {},
     "output_type": "execute_result"
    },
    {
     "data": {
      "image/png": "[encoded data removed]",
      "text/plain": [
       "<Figure size 640x480 with 1 Axes>"
      ]
     },
     "metadata": {},
     "output_type": "display_data"
    }
   ],
   "source": [
    "sp500.plot.line(y=\"Close\", use_index=True)"
   ]
  },
  {
   "cell_type": "code",
   "execution_count": 200,
   "id": "49fa17a4-509a-43a8-a942-1064720f2177",
   "metadata": {
    "tags": []
   },
   "outputs": [],
   "source": [
    "del sp500[\"Dividends\"]\n",
    "del sp500[\"Stock Splits\"]"
   ]
  },
  {
   "cell_type": "code",
   "execution_count": 201,
   "id": "835971d6-49a8-4357-920c-4d1aa978c394",
   "metadata": {},
   "outputs": [],
   "source": [
    "# Add a column, Tomorrow, that will keep track of the stock price at closing for the next day"
   ]
  },
  {
   "cell_type": "code",
   "execution_count": 202,
   "id": "63b7b3e6-68bd-4a0f-9094-a4bbcf0e3538",
   "metadata": {
    "tags": []
   },
   "outputs": [],
   "source": [
    "sp500[\"Tomorrow\"] = sp500[\"Close\"].shift(-1)"
   ]
  },
  {
   "cell_type": "code",
   "execution_count": 203,
   "id": "815bc9dd-127d-480c-b525-6d067e08e3ba",
   "metadata": {
    "tags": []
   },
   "outputs": [
    {
     "data": {
      "text/html": [
       "<div>\n",
       "<style scoped>\n",
       "    .dataframe tbody tr th:only-of-type {\n",
       "        vertical-align: middle;\n",
       "    }\n",
       "\n",
       "    .dataframe tbody tr th {\n",
       "        vertical-align: top;\n",
       "    }\n",
       "\n",
       "    .dataframe thead th {\n",
       "        text-align: right;\n",
       "    }\n",
       "</style>\n",
       "<table border=\"1\" class=\"dataframe\">\n",
       "  <thead>\n",
       "    <tr style=\"text-align: right;\">\n",
       "      <th></th>\n",
       "      <th>Open</th>\n",
       "      <th>High</th>\n",
       "      <th>Low</th>\n",
       "      <th>Close</th>\n",
       "      <th>Volume</th>\n",
       "      <th>Tomorrow</th>\n",
       "    </tr>\n",
       "    <tr>\n",
       "      <th>Date</th>\n",
       "      <th></th>\n",
       "      <th></th>\n",
       "      <th></th>\n",
       "      <th></th>\n",
       "      <th></th>\n",
       "      <th></th>\n",
       "    </tr>\n",
       "  </thead>\n",
       "  <tbody>\n",
       "    <tr>\n",
       "      <th>1927-12-30 00:00:00-05:00</th>\n",
       "      <td>17.660000</td>\n",
       "      <td>17.660000</td>\n",
       "      <td>17.660000</td>\n",
       "      <td>17.660000</td>\n",
       "      <td>0</td>\n",
       "      <td>17.760000</td>\n",
       "    </tr>\n",
       "    <tr>\n",
       "      <th>1928-01-03 00:00:00-05:00</th>\n",
       "      <td>17.760000</td>\n",
       "      <td>17.760000</td>\n",
       "      <td>17.760000</td>\n",
       "      <td>17.760000</td>\n",
       "      <td>0</td>\n",
       "      <td>17.719999</td>\n",
       "    </tr>\n",
       "    <tr>\n",
       "      <th>1928-01-04 00:00:00-05:00</th>\n",
       "      <td>17.719999</td>\n",
       "      <td>17.719999</td>\n",
       "      <td>17.719999</td>\n",
       "      <td>17.719999</td>\n",
       "      <td>0</td>\n",
       "      <td>17.549999</td>\n",
       "    </tr>\n",
       "    <tr>\n",
       "      <th>1928-01-05 00:00:00-05:00</th>\n",
       "      <td>17.549999</td>\n",
       "      <td>17.549999</td>\n",
       "      <td>17.549999</td>\n",
       "      <td>17.549999</td>\n",
       "      <td>0</td>\n",
       "      <td>17.660000</td>\n",
       "    </tr>\n",
       "    <tr>\n",
       "      <th>1928-01-06 00:00:00-05:00</th>\n",
       "      <td>17.660000</td>\n",
       "      <td>17.660000</td>\n",
       "      <td>17.660000</td>\n",
       "      <td>17.660000</td>\n",
       "      <td>0</td>\n",
       "      <td>17.500000</td>\n",
       "    </tr>\n",
       "    <tr>\n",
       "      <th>...</th>\n",
       "      <td>...</td>\n",
       "      <td>...</td>\n",
       "      <td>...</td>\n",
       "      <td>...</td>\n",
       "      <td>...</td>\n",
       "      <td>...</td>\n",
       "    </tr>\n",
       "    <tr>\n",
       "      <th>2023-04-27 00:00:00-04:00</th>\n",
       "      <td>4075.290039</td>\n",
       "      <td>4138.240234</td>\n",
       "      <td>4075.290039</td>\n",
       "      <td>4135.350098</td>\n",
       "      <td>3750550000</td>\n",
       "      <td>4169.479980</td>\n",
       "    </tr>\n",
       "    <tr>\n",
       "      <th>2023-04-28 00:00:00-04:00</th>\n",
       "      <td>4129.629883</td>\n",
       "      <td>4170.060059</td>\n",
       "      <td>4127.180176</td>\n",
       "      <td>4169.479980</td>\n",
       "      <td>4087800000</td>\n",
       "      <td>4167.870117</td>\n",
       "    </tr>\n",
       "    <tr>\n",
       "      <th>2023-05-01 00:00:00-04:00</th>\n",
       "      <td>4166.790039</td>\n",
       "      <td>4186.919922</td>\n",
       "      <td>4164.120117</td>\n",
       "      <td>4167.870117</td>\n",
       "      <td>3321370000</td>\n",
       "      <td>4119.580078</td>\n",
       "    </tr>\n",
       "    <tr>\n",
       "      <th>2023-05-02 00:00:00-04:00</th>\n",
       "      <td>4164.100098</td>\n",
       "      <td>4164.100098</td>\n",
       "      <td>4089.719971</td>\n",
       "      <td>4119.580078</td>\n",
       "      <td>4486130000</td>\n",
       "      <td>4134.310059</td>\n",
       "    </tr>\n",
       "    <tr>\n",
       "      <th>2023-05-03 00:00:00-04:00</th>\n",
       "      <td>4122.250000</td>\n",
       "      <td>4143.930176</td>\n",
       "      <td>4114.299805</td>\n",
       "      <td>4134.310059</td>\n",
       "      <td>1596011000</td>\n",
       "      <td>NaN</td>\n",
       "    </tr>\n",
       "  </tbody>\n",
       "</table>\n",
       "<p>23949 rows × 6 columns</p>\n",
       "</div>"
      ],
      "text/plain": [
       "                                  Open         High          Low        Close   \n",
       "Date                                                                            \n",
       "1927-12-30 00:00:00-05:00    17.660000    17.660000    17.660000    17.660000  \\\n",
       "1928-01-03 00:00:00-05:00    17.760000    17.760000    17.760000    17.760000   \n",
       "1928-01-04 00:00:00-05:00    17.719999    17.719999    17.719999    17.719999   \n",
       "1928-01-05 00:00:00-05:00    17.549999    17.549999    17.549999    17.549999   \n",
       "1928-01-06 00:00:00-05:00    17.660000    17.660000    17.660000    17.660000   \n",
       "...                                ...          ...          ...          ...   \n",
       "2023-04-27 00:00:00-04:00  4075.290039  4138.240234  4075.290039  4135.350098   \n",
       "2023-04-28 00:00:00-04:00  4129.629883  4170.060059  4127.180176  4169.479980   \n",
       "2023-05-01 00:00:00-04:00  4166.790039  4186.919922  4164.120117  4167.870117   \n",
       "2023-05-02 00:00:00-04:00  4164.100098  4164.100098  4089.719971  4119.580078   \n",
       "2023-05-03 00:00:00-04:00  4122.250000  4143.930176  4114.299805  4134.310059   \n",
       "\n",
       "                               Volume     Tomorrow  \n",
       "Date                                                \n",
       "1927-12-30 00:00:00-05:00           0    17.760000  \n",
       "1928-01-03 00:00:00-05:00           0    17.719999  \n",
       "1928-01-04 00:00:00-05:00           0    17.549999  \n",
       "1928-01-05 00:00:00-05:00           0    17.660000  \n",
       "1928-01-06 00:00:00-05:00           0    17.500000  \n",
       "...                               ...          ...  \n",
       "2023-04-27 00:00:00-04:00  3750550000  4169.479980  \n",
       "2023-04-28 00:00:00-04:00  4087800000  4167.870117  \n",
       "2023-05-01 00:00:00-04:00  3321370000  4119.580078  \n",
       "2023-05-02 00:00:00-04:00  4486130000  4134.310059  \n",
       "2023-05-03 00:00:00-04:00  1596011000          NaN  \n",
       "\n",
       "[23949 rows x 6 columns]"
      ]
     },
     "execution_count": 203,
     "metadata": {},
     "output_type": "execute_result"
    }
   ],
   "source": [
    "sp500"
   ]
  },
  {
   "cell_type": "code",
   "execution_count": 204,
   "id": "716ced6d-5af0-47c6-a82f-49ae18fd8e31",
   "metadata": {},
   "outputs": [],
   "source": [
    "# Check if tomorrows stock price is greater than the current stock price"
   ]
  },
  {
   "cell_type": "code",
   "execution_count": 205,
   "id": "64ef5966-c689-45c3-8f57-bb8b951a149e",
   "metadata": {
    "tags": []
   },
   "outputs": [],
   "source": [
    "sp500[\"Target\"] = (sp500[\"Tomorrow\"] > sp500[\"Close\"]).astype(int)"
   ]
  },
  {
   "cell_type": "code",
   "execution_count": 206,
   "id": "12e2d546-d34d-4694-bd22-6e0ecb5ca665",
   "metadata": {
    "tags": []
   },
   "outputs": [
    {
     "data": {
      "text/html": [
       "<div>\n",
       "<style scoped>\n",
       "    .dataframe tbody tr th:only-of-type {\n",
       "        vertical-align: middle;\n",
       "    }\n",
       "\n",
       "    .dataframe tbody tr th {\n",
       "        vertical-align: top;\n",
       "    }\n",
       "\n",
       "    .dataframe thead th {\n",
       "        text-align: right;\n",
       "    }\n",
       "</style>\n",
       "<table border=\"1\" class=\"dataframe\">\n",
       "  <thead>\n",
       "    <tr style=\"text-align: right;\">\n",
       "      <th></th>\n",
       "      <th>Open</th>\n",
       "      <th>High</th>\n",
       "      <th>Low</th>\n",
       "      <th>Close</th>\n",
       "      <th>Volume</th>\n",
       "      <th>Tomorrow</th>\n",
       "      <th>Target</th>\n",
       "    </tr>\n",
       "    <tr>\n",
       "      <th>Date</th>\n",
       "      <th></th>\n",
       "      <th></th>\n",
       "      <th></th>\n",
       "      <th></th>\n",
       "      <th></th>\n",
       "      <th></th>\n",
       "      <th></th>\n",
       "    </tr>\n",
       "  </thead>\n",
       "  <tbody>\n",
       "    <tr>\n",
       "      <th>1927-12-30 00:00:00-05:00</th>\n",
       "      <td>17.660000</td>\n",
       "      <td>17.660000</td>\n",
       "      <td>17.660000</td>\n",
       "      <td>17.660000</td>\n",
       "      <td>0</td>\n",
       "      <td>17.760000</td>\n",
       "      <td>1</td>\n",
       "    </tr>\n",
       "    <tr>\n",
       "      <th>1928-01-03 00:00:00-05:00</th>\n",
       "      <td>17.760000</td>\n",
       "      <td>17.760000</td>\n",
       "      <td>17.760000</td>\n",
       "      <td>17.760000</td>\n",
       "      <td>0</td>\n",
       "      <td>17.719999</td>\n",
       "      <td>0</td>\n",
       "    </tr>\n",
       "    <tr>\n",
       "      <th>1928-01-04 00:00:00-05:00</th>\n",
       "      <td>17.719999</td>\n",
       "      <td>17.719999</td>\n",
       "      <td>17.719999</td>\n",
       "      <td>17.719999</td>\n",
       "      <td>0</td>\n",
       "      <td>17.549999</td>\n",
       "      <td>0</td>\n",
       "    </tr>\n",
       "    <tr>\n",
       "      <th>1928-01-05 00:00:00-05:00</th>\n",
       "      <td>17.549999</td>\n",
       "      <td>17.549999</td>\n",
       "      <td>17.549999</td>\n",
       "      <td>17.549999</td>\n",
       "      <td>0</td>\n",
       "      <td>17.660000</td>\n",
       "      <td>1</td>\n",
       "    </tr>\n",
       "    <tr>\n",
       "      <th>1928-01-06 00:00:00-05:00</th>\n",
       "      <td>17.660000</td>\n",
       "      <td>17.660000</td>\n",
       "      <td>17.660000</td>\n",
       "      <td>17.660000</td>\n",
       "      <td>0</td>\n",
       "      <td>17.500000</td>\n",
       "      <td>0</td>\n",
       "    </tr>\n",
       "    <tr>\n",
       "      <th>...</th>\n",
       "      <td>...</td>\n",
       "      <td>...</td>\n",
       "      <td>...</td>\n",
       "      <td>...</td>\n",
       "      <td>...</td>\n",
       "      <td>...</td>\n",
       "      <td>...</td>\n",
       "    </tr>\n",
       "    <tr>\n",
       "      <th>2023-04-27 00:00:00-04:00</th>\n",
       "      <td>4075.290039</td>\n",
       "      <td>4138.240234</td>\n",
       "      <td>4075.290039</td>\n",
       "      <td>4135.350098</td>\n",
       "      <td>3750550000</td>\n",
       "      <td>4169.479980</td>\n",
       "      <td>1</td>\n",
       "    </tr>\n",
       "    <tr>\n",
       "      <th>2023-04-28 00:00:00-04:00</th>\n",
       "      <td>4129.629883</td>\n",
       "      <td>4170.060059</td>\n",
       "      <td>4127.180176</td>\n",
       "      <td>4169.479980</td>\n",
       "      <td>4087800000</td>\n",
       "      <td>4167.870117</td>\n",
       "      <td>0</td>\n",
       "    </tr>\n",
       "    <tr>\n",
       "      <th>2023-05-01 00:00:00-04:00</th>\n",
       "      <td>4166.790039</td>\n",
       "      <td>4186.919922</td>\n",
       "      <td>4164.120117</td>\n",
       "      <td>4167.870117</td>\n",
       "      <td>3321370000</td>\n",
       "      <td>4119.580078</td>\n",
       "      <td>0</td>\n",
       "    </tr>\n",
       "    <tr>\n",
       "      <th>2023-05-02 00:00:00-04:00</th>\n",
       "      <td>4164.100098</td>\n",
       "      <td>4164.100098</td>\n",
       "      <td>4089.719971</td>\n",
       "      <td>4119.580078</td>\n",
       "      <td>4486130000</td>\n",
       "      <td>4134.310059</td>\n",
       "      <td>1</td>\n",
       "    </tr>\n",
       "    <tr>\n",
       "      <th>2023-05-03 00:00:00-04:00</th>\n",
       "      <td>4122.250000</td>\n",
       "      <td>4143.930176</td>\n",
       "      <td>4114.299805</td>\n",
       "      <td>4134.310059</td>\n",
       "      <td>1596011000</td>\n",
       "      <td>NaN</td>\n",
       "      <td>0</td>\n",
       "    </tr>\n",
       "  </tbody>\n",
       "</table>\n",
       "<p>23949 rows × 7 columns</p>\n",
       "</div>"
      ],
      "text/plain": [
       "                                  Open         High          Low        Close   \n",
       "Date                                                                            \n",
       "1927-12-30 00:00:00-05:00    17.660000    17.660000    17.660000    17.660000  \\\n",
       "1928-01-03 00:00:00-05:00    17.760000    17.760000    17.760000    17.760000   \n",
       "1928-01-04 00:00:00-05:00    17.719999    17.719999    17.719999    17.719999   \n",
       "1928-01-05 00:00:00-05:00    17.549999    17.549999    17.549999    17.549999   \n",
       "1928-01-06 00:00:00-05:00    17.660000    17.660000    17.660000    17.660000   \n",
       "...                                ...          ...          ...          ...   \n",
       "2023-04-27 00:00:00-04:00  4075.290039  4138.240234  4075.290039  4135.350098   \n",
       "2023-04-28 00:00:00-04:00  4129.629883  4170.060059  4127.180176  4169.479980   \n",
       "2023-05-01 00:00:00-04:00  4166.790039  4186.919922  4164.120117  4167.870117   \n",
       "2023-05-02 00:00:00-04:00  4164.100098  4164.100098  4089.719971  4119.580078   \n",
       "2023-05-03 00:00:00-04:00  4122.250000  4143.930176  4114.299805  4134.310059   \n",
       "\n",
       "                               Volume     Tomorrow  Target  \n",
       "Date                                                        \n",
       "1927-12-30 00:00:00-05:00           0    17.760000       1  \n",
       "1928-01-03 00:00:00-05:00           0    17.719999       0  \n",
       "1928-01-04 00:00:00-05:00           0    17.549999       0  \n",
       "1928-01-05 00:00:00-05:00           0    17.660000       1  \n",
       "1928-01-06 00:00:00-05:00           0    17.500000       0  \n",
       "...                               ...          ...     ...  \n",
       "2023-04-27 00:00:00-04:00  3750550000  4169.479980       1  \n",
       "2023-04-28 00:00:00-04:00  4087800000  4167.870117       0  \n",
       "2023-05-01 00:00:00-04:00  3321370000  4119.580078       0  \n",
       "2023-05-02 00:00:00-04:00  4486130000  4134.310059       1  \n",
       "2023-05-03 00:00:00-04:00  1596011000          NaN       0  \n",
       "\n",
       "[23949 rows x 7 columns]"
      ]
     },
     "execution_count": 206,
     "metadata": {},
     "output_type": "execute_result"
    }
   ],
   "source": [
    "sp500"
   ]
  },
  {
   "cell_type": "code",
   "execution_count": 207,
   "id": "b5c331ad-f24a-45f3-b69b-8ea6b25fbccd",
   "metadata": {},
   "outputs": [],
   "source": [
    "# Anything before 1990 is not that useful as old stock data is not helpful in predicting todays stocks"
   ]
  },
  {
   "cell_type": "code",
   "execution_count": 208,
   "id": "3e24abc6-bc2a-431e-9d9b-aba2c33cd356",
   "metadata": {
    "tags": []
   },
   "outputs": [],
   "source": [
    "sp500 = sp500.loc[\"1990-01-01\":].copy()"
   ]
  },
  {
   "cell_type": "code",
   "execution_count": 209,
   "id": "4c3df0f2-1fae-43a1-9971-19dda91ed9ea",
   "metadata": {
    "tags": []
   },
   "outputs": [
    {
     "data": {
      "text/html": [
       "<div>\n",
       "<style scoped>\n",
       "    .dataframe tbody tr th:only-of-type {\n",
       "        vertical-align: middle;\n",
       "    }\n",
       "\n",
       "    .dataframe tbody tr th {\n",
       "        vertical-align: top;\n",
       "    }\n",
       "\n",
       "    .dataframe thead th {\n",
       "        text-align: right;\n",
       "    }\n",
       "</style>\n",
       "<table border=\"1\" class=\"dataframe\">\n",
       "  <thead>\n",
       "    <tr style=\"text-align: right;\">\n",
       "      <th></th>\n",
       "      <th>Open</th>\n",
       "      <th>High</th>\n",
       "      <th>Low</th>\n",
       "      <th>Close</th>\n",
       "      <th>Volume</th>\n",
       "      <th>Tomorrow</th>\n",
       "      <th>Target</th>\n",
       "    </tr>\n",
       "    <tr>\n",
       "      <th>Date</th>\n",
       "      <th></th>\n",
       "      <th></th>\n",
       "      <th></th>\n",
       "      <th></th>\n",
       "      <th></th>\n",
       "      <th></th>\n",
       "      <th></th>\n",
       "    </tr>\n",
       "  </thead>\n",
       "  <tbody>\n",
       "    <tr>\n",
       "      <th>1990-01-02 00:00:00-05:00</th>\n",
       "      <td>353.399994</td>\n",
       "      <td>359.690002</td>\n",
       "      <td>351.980011</td>\n",
       "      <td>359.690002</td>\n",
       "      <td>162070000</td>\n",
       "      <td>358.760010</td>\n",
       "      <td>0</td>\n",
       "    </tr>\n",
       "    <tr>\n",
       "      <th>1990-01-03 00:00:00-05:00</th>\n",
       "      <td>359.690002</td>\n",
       "      <td>360.589996</td>\n",
       "      <td>357.890015</td>\n",
       "      <td>358.760010</td>\n",
       "      <td>192330000</td>\n",
       "      <td>355.670013</td>\n",
       "      <td>0</td>\n",
       "    </tr>\n",
       "    <tr>\n",
       "      <th>1990-01-04 00:00:00-05:00</th>\n",
       "      <td>358.760010</td>\n",
       "      <td>358.760010</td>\n",
       "      <td>352.890015</td>\n",
       "      <td>355.670013</td>\n",
       "      <td>177000000</td>\n",
       "      <td>352.200012</td>\n",
       "      <td>0</td>\n",
       "    </tr>\n",
       "    <tr>\n",
       "      <th>1990-01-05 00:00:00-05:00</th>\n",
       "      <td>355.670013</td>\n",
       "      <td>355.670013</td>\n",
       "      <td>351.350006</td>\n",
       "      <td>352.200012</td>\n",
       "      <td>158530000</td>\n",
       "      <td>353.790009</td>\n",
       "      <td>1</td>\n",
       "    </tr>\n",
       "    <tr>\n",
       "      <th>1990-01-08 00:00:00-05:00</th>\n",
       "      <td>352.200012</td>\n",
       "      <td>354.239990</td>\n",
       "      <td>350.540009</td>\n",
       "      <td>353.790009</td>\n",
       "      <td>140110000</td>\n",
       "      <td>349.619995</td>\n",
       "      <td>0</td>\n",
       "    </tr>\n",
       "    <tr>\n",
       "      <th>...</th>\n",
       "      <td>...</td>\n",
       "      <td>...</td>\n",
       "      <td>...</td>\n",
       "      <td>...</td>\n",
       "      <td>...</td>\n",
       "      <td>...</td>\n",
       "      <td>...</td>\n",
       "    </tr>\n",
       "    <tr>\n",
       "      <th>2023-04-27 00:00:00-04:00</th>\n",
       "      <td>4075.290039</td>\n",
       "      <td>4138.240234</td>\n",
       "      <td>4075.290039</td>\n",
       "      <td>4135.350098</td>\n",
       "      <td>3750550000</td>\n",
       "      <td>4169.479980</td>\n",
       "      <td>1</td>\n",
       "    </tr>\n",
       "    <tr>\n",
       "      <th>2023-04-28 00:00:00-04:00</th>\n",
       "      <td>4129.629883</td>\n",
       "      <td>4170.060059</td>\n",
       "      <td>4127.180176</td>\n",
       "      <td>4169.479980</td>\n",
       "      <td>4087800000</td>\n",
       "      <td>4167.870117</td>\n",
       "      <td>0</td>\n",
       "    </tr>\n",
       "    <tr>\n",
       "      <th>2023-05-01 00:00:00-04:00</th>\n",
       "      <td>4166.790039</td>\n",
       "      <td>4186.919922</td>\n",
       "      <td>4164.120117</td>\n",
       "      <td>4167.870117</td>\n",
       "      <td>3321370000</td>\n",
       "      <td>4119.580078</td>\n",
       "      <td>0</td>\n",
       "    </tr>\n",
       "    <tr>\n",
       "      <th>2023-05-02 00:00:00-04:00</th>\n",
       "      <td>4164.100098</td>\n",
       "      <td>4164.100098</td>\n",
       "      <td>4089.719971</td>\n",
       "      <td>4119.580078</td>\n",
       "      <td>4486130000</td>\n",
       "      <td>4134.310059</td>\n",
       "      <td>1</td>\n",
       "    </tr>\n",
       "    <tr>\n",
       "      <th>2023-05-03 00:00:00-04:00</th>\n",
       "      <td>4122.250000</td>\n",
       "      <td>4143.930176</td>\n",
       "      <td>4114.299805</td>\n",
       "      <td>4134.310059</td>\n",
       "      <td>1596011000</td>\n",
       "      <td>NaN</td>\n",
       "      <td>0</td>\n",
       "    </tr>\n",
       "  </tbody>\n",
       "</table>\n",
       "<p>8399 rows × 7 columns</p>\n",
       "</div>"
      ],
      "text/plain": [
       "                                  Open         High          Low        Close   \n",
       "Date                                                                            \n",
       "1990-01-02 00:00:00-05:00   353.399994   359.690002   351.980011   359.690002  \\\n",
       "1990-01-03 00:00:00-05:00   359.690002   360.589996   357.890015   358.760010   \n",
       "1990-01-04 00:00:00-05:00   358.760010   358.760010   352.890015   355.670013   \n",
       "1990-01-05 00:00:00-05:00   355.670013   355.670013   351.350006   352.200012   \n",
       "1990-01-08 00:00:00-05:00   352.200012   354.239990   350.540009   353.790009   \n",
       "...                                ...          ...          ...          ...   \n",
       "2023-04-27 00:00:00-04:00  4075.290039  4138.240234  4075.290039  4135.350098   \n",
       "2023-04-28 00:00:00-04:00  4129.629883  4170.060059  4127.180176  4169.479980   \n",
       "2023-05-01 00:00:00-04:00  4166.790039  4186.919922  4164.120117  4167.870117   \n",
       "2023-05-02 00:00:00-04:00  4164.100098  4164.100098  4089.719971  4119.580078   \n",
       "2023-05-03 00:00:00-04:00  4122.250000  4143.930176  4114.299805  4134.310059   \n",
       "\n",
       "                               Volume     Tomorrow  Target  \n",
       "Date                                                        \n",
       "1990-01-02 00:00:00-05:00   162070000   358.760010       0  \n",
       "1990-01-03 00:00:00-05:00   192330000   355.670013       0  \n",
       "1990-01-04 00:00:00-05:00   177000000   352.200012       0  \n",
       "1990-01-05 00:00:00-05:00   158530000   353.790009       1  \n",
       "1990-01-08 00:00:00-05:00   140110000   349.619995       0  \n",
       "...                               ...          ...     ...  \n",
       "2023-04-27 00:00:00-04:00  3750550000  4169.479980       1  \n",
       "2023-04-28 00:00:00-04:00  4087800000  4167.870117       0  \n",
       "2023-05-01 00:00:00-04:00  3321370000  4119.580078       0  \n",
       "2023-05-02 00:00:00-04:00  4486130000  4134.310059       1  \n",
       "2023-05-03 00:00:00-04:00  1596011000          NaN       0  \n",
       "\n",
       "[8399 rows x 7 columns]"
      ]
     },
     "execution_count": 209,
     "metadata": {},
     "output_type": "execute_result"
    }
   ],
   "source": [
    "sp500"
   ]
  },
  {
   "cell_type": "code",
   "execution_count": 210,
   "id": "123c4e13-9d56-4840-85f2-6f54c017dc08",
   "metadata": {},
   "outputs": [],
   "source": [
    "# Start training first ML machine model. Random forest are more resistent to overfit & pick up non linear tendencies in the data\n",
    "# N-estimators: # of decision trees we want to test\n",
    "# Min_samples_split : Protect against overfit"
   ]
  },
  {
   "cell_type": "code",
   "execution_count": 211,
   "id": "6f991c04-a424-431a-afa6-1fd0975a5013",
   "metadata": {
    "tags": []
   },
   "outputs": [
    {
     "data": {
      "text/html": [
       "<style>#sk-container-id-4 {color: black;background-color: white;}#sk-container-id-4 pre{padding: 0;}#sk-container-id-4 div.sk-toggleable {background-color: white;}#sk-container-id-4 label.sk-toggleable__label {cursor: pointer;display: block;width: 100%;margin-bottom: 0;padding: 0.3em;box-sizing: border-box;text-align: center;}#sk-container-id-4 label.sk-toggleable__label-arrow:before {content: \"▸\";float: left;margin-right: 0.25em;color: #696969;}#sk-container-id-4 label.sk-toggleable__label-arrow:hover:before {color: black;}#sk-container-id-4 div.sk-estimator:hover label.sk-toggleable__label-arrow:before {color: black;}#sk-container-id-4 div.sk-toggleable__content {max-height: 0;max-width: 0;overflow: hidden;text-align: left;background-color: #f0f8ff;}#sk-container-id-4 div.sk-toggleable__content pre {margin: 0.2em;color: black;border-radius: 0.25em;background-color: #f0f8ff;}#sk-container-id-4 input.sk-toggleable__control:checked~div.sk-toggleable__content {max-height: 200px;max-width: 100%;overflow: auto;}#sk-container-id-4 input.sk-toggleable__control:checked~label.sk-toggleable__label-arrow:before {content: \"▾\";}#sk-container-id-4 div.sk-estimator input.sk-toggleable__control:checked~label.sk-toggleable__label {background-color: #d4ebff;}#sk-container-id-4 div.sk-label input.sk-toggleable__control:checked~label.sk-toggleable__label {background-color: #d4ebff;}#sk-container-id-4 input.sk-hidden--visually {border: 0;clip: rect(1px 1px 1px 1px);clip: rect(1px, 1px, 1px, 1px);height: 1px;margin: -1px;overflow: hidden;padding: 0;position: absolute;width: 1px;}#sk-container-id-4 div.sk-estimator {font-family: monospace;background-color: #f0f8ff;border: 1px dotted black;border-radius: 0.25em;box-sizing: border-box;margin-bottom: 0.5em;}#sk-container-id-4 div.sk-estimator:hover {background-color: #d4ebff;}#sk-container-id-4 div.sk-parallel-item::after {content: \"\";width: 100%;border-bottom: 1px solid gray;flex-grow: 1;}#sk-container-id-4 div.sk-label:hover label.sk-toggleable__label {background-color: #d4ebff;}#sk-container-id-4 div.sk-serial::before {content: \"\";position: absolute;border-left: 1px solid gray;box-sizing: border-box;top: 0;bottom: 0;left: 50%;z-index: 0;}#sk-container-id-4 div.sk-serial {display: flex;flex-direction: column;align-items: center;background-color: white;padding-right: 0.2em;padding-left: 0.2em;position: relative;}#sk-container-id-4 div.sk-item {position: relative;z-index: 1;}#sk-container-id-4 div.sk-parallel {display: flex;align-items: stretch;justify-content: center;background-color: white;position: relative;}#sk-container-id-4 div.sk-item::before, #sk-container-id-4 div.sk-parallel-item::before {content: \"\";position: absolute;border-left: 1px solid gray;box-sizing: border-box;top: 0;bottom: 0;left: 50%;z-index: -1;}#sk-container-id-4 div.sk-parallel-item {display: flex;flex-direction: column;z-index: 1;position: relative;background-color: white;}#sk-container-id-4 div.sk-parallel-item:first-child::after {align-self: flex-end;width: 50%;}#sk-container-id-4 div.sk-parallel-item:last-child::after {align-self: flex-start;width: 50%;}#sk-container-id-4 div.sk-parallel-item:only-child::after {width: 0;}#sk-container-id-4 div.sk-dashed-wrapped {border: 1px dashed gray;margin: 0 0.4em 0.5em 0.4em;box-sizing: border-box;padding-bottom: 0.4em;background-color: white;}#sk-container-id-4 div.sk-label label {font-family: monospace;font-weight: bold;display: inline-block;line-height: 1.2em;}#sk-container-id-4 div.sk-label-container {text-align: center;}#sk-container-id-4 div.sk-container {/* jupyter's `normalize.less` sets `[hidden] { display: none; }` but bootstrap.min.css set `[hidden] { display: none !important; }` so we also need the `!important` here to be able to override the default hidden behavior on the sphinx rendered scikit-learn.org. See: https://github.com/scikit-learn/scikit-learn/issues/21755 */display: inline-block !important;position: relative;}#sk-container-id-4 div.sk-text-repr-fallback {display: none;}</style><div id=\"sk-container-id-4\" class=\"sk-top-container\"><div class=\"sk-text-repr-fallback\"><pre>RandomForestClassifier(min_samples_split=100, random_state=1)</pre><b>In a Jupyter environment, please rerun this cell to show the HTML representation or trust the notebook. <br />On GitHub, the HTML representation is unable to render, please try loading this page with nbviewer.org.</b></div><div class=\"sk-container\" hidden><div class=\"sk-item\"><div class=\"sk-estimator sk-toggleable\"><input class=\"sk-toggleable__control sk-hidden--visually\" id=\"sk-estimator-id-4\" type=\"checkbox\" checked><label for=\"sk-estimator-id-4\" class=\"sk-toggleable__label sk-toggleable__label-arrow\">RandomForestClassifier</label><div class=\"sk-toggleable__content\"><pre>RandomForestClassifier(min_samples_split=100, random_state=1)</pre></div></div></div></div></div>"
      ],
      "text/plain": [
       "RandomForestClassifier(min_samples_split=100, random_state=1)"
      ]
     },
     "execution_count": 211,
     "metadata": {},
     "output_type": "execute_result"
    }
   ],
   "source": [
    "from sklearn.ensemble import RandomForestClassifier\n",
    "\n",
    "model = RandomForestClassifier(n_estimators=100,min_samples_split=100,random_state=1)\n",
    "\n",
    "# everything but last 100 in test set\n",
    "train = sp500.iloc[:-100]\n",
    "# last 100 rows in the test set\n",
    "test = sp500.iloc[-100:]\n",
    "\n",
    "predictors = [\"Close\", \"Volume\", \"Open\", \"High\", \"Low\"]\n",
    "model.fit(train[predictors], train[\"Target\"])"
   ]
  },
  {
   "cell_type": "code",
   "execution_count": 212,
   "id": "5a8bbc68-2bb2-4ef8-89d9-eee56ad7fec5",
   "metadata": {
    "tags": []
   },
   "outputs": [],
   "source": [
    "# test the model - what percentage of the time did the model predict an increase when it was supposed to\n",
    "from sklearn.metrics import precision_score \n",
    "\n",
    "preds = model.predict(test[predictors])"
   ]
  },
  {
   "cell_type": "code",
   "execution_count": 213,
   "id": "e4fc0d7d-54e1-441a-b770-4f2178a83cb9",
   "metadata": {
    "tags": []
   },
   "outputs": [],
   "source": [
    "import pandas as pd\n",
    "preds = pd.Series(preds, index=test.index)"
   ]
  },
  {
   "cell_type": "code",
   "execution_count": 214,
   "id": "a1241ee4-ffca-4c9a-b4e2-d9292ba57d36",
   "metadata": {
    "tags": []
   },
   "outputs": [
    {
     "data": {
      "text/plain": [
       "0.4444444444444444"
      ]
     },
     "execution_count": 214,
     "metadata": {},
     "output_type": "execute_result"
    }
   ],
   "source": [
    "precision_score(test[\"Target\"], preds)"
   ]
  },
  {
   "cell_type": "code",
   "execution_count": 215,
   "id": "9ae52ff8-18fd-40f2-84d6-39d04f8a1d53",
   "metadata": {},
   "outputs": [],
   "source": [
    "# not a very good score ^\n",
    "# combine the test target & predicted values. treat each of these inputs as a column"
   ]
  },
  {
   "cell_type": "code",
   "execution_count": 216,
   "id": "de1cc801-cf9b-4074-90b1-4642d01a956d",
   "metadata": {
    "tags": []
   },
   "outputs": [],
   "source": [
    "combined = pd.concat([test[\"Target\"], preds], axis=1)"
   ]
  },
  {
   "cell_type": "code",
   "execution_count": 217,
   "id": "fd2e15bf-9edc-4ebe-b473-971306f7fefe",
   "metadata": {
    "tags": []
   },
   "outputs": [
    {
     "data": {
      "text/plain": [
       "<Axes: xlabel='Date'>"
      ]
     },
     "execution_count": 217,
     "metadata": {},
     "output_type": "execute_result"
    },
    {
     "data": {
      "image/png": "[encoded data removed]",
      "text/plain": [
       "<Figure size 640x480 with 1 Axes>"
      ]
     },
     "metadata": {},
     "output_type": "display_data"
    }
   ],
   "source": [
    "combined.plot()"
   ]
  },
  {
   "cell_type": "code",
   "execution_count": 218,
   "id": "3ba910fe-22fc-4aa4-af2e-b666ad423710",
   "metadata": {},
   "outputs": [],
   "source": [
    "# Build a backtest system. Test it better."
   ]
  },
  {
   "cell_type": "code",
   "execution_count": 219,
   "id": "c637aba2-cf95-4921-9e83-79742864763e",
   "metadata": {
    "tags": []
   },
   "outputs": [],
   "source": [
    "def predict(train, test, predictors, model):\n",
    "    model.fit(train[predictors], train[\"Target\"])\n",
    "    preds = model.predict(test[predictors])\n",
    "    preds = pd.Series(preds, index=test.index, name = \"Predictions\")\n",
    "    combined = pd.concat([test[\"Target\"], preds], axis=1)\n",
    "    return combined"
   ]
  },
  {
   "cell_type": "code",
   "execution_count": 220,
   "id": "dcf86d44-586b-45f7-8317-b4f43b46c525",
   "metadata": {
    "tags": []
   },
   "outputs": [],
   "source": [
    "def backtest(data, model, predictors, start = 2500, step = 250):\n",
    "    all_predictions = []\n",
    "    \n",
    "    for i in range(start, data.shape[0], step):\n",
    "        train = data.iloc[0:i].copy()\n",
    "        test = data.iloc[i: (i + step)].copy()\n",
    "        predictions = predict(train, test, predictors, model)\n",
    "        all_predictions.append(predictions)\n",
    "    return pd.concat(all_predictions)"
   ]
  },
  {
   "cell_type": "code",
   "execution_count": 221,
   "id": "9c1a585e-5998-43ce-9fa8-071b2a5e96f6",
   "metadata": {
    "tags": []
   },
   "outputs": [],
   "source": [
    "predictions = backtest(sp500, model, predictors)"
   ]
  },
  {
   "cell_type": "code",
   "execution_count": 222,
   "id": "9806332f-43b9-4f63-9e5f-3409316b6665",
   "metadata": {
    "tags": []
   },
   "outputs": [
    {
     "data": {
      "text/plain": [
       "Predictions\n",
       "0    3420\n",
       "1    2479\n",
       "Name: count, dtype: int64"
      ]
     },
     "execution_count": 222,
     "metadata": {},
     "output_type": "execute_result"
    }
   ],
   "source": [
    "predictions[\"Predictions\"].value_counts()"
   ]
  },
  {
   "cell_type": "code",
   "execution_count": 223,
   "id": "5339c9fb-9ca1-4f04-b78a-e1a6870c0a72",
   "metadata": {
    "tags": []
   },
   "outputs": [
    {
     "data": {
      "text/plain": [
       "0.5284388866478419"
      ]
     },
     "execution_count": 223,
     "metadata": {},
     "output_type": "execute_result"
    }
   ],
   "source": [
    "precision_score(predictions[\"Target\"], predictions[\"Predictions\"])"
   ]
  },
  {
   "cell_type": "code",
   "execution_count": 224,
   "id": "73173b3e-c3de-4098-bddd-994fbe2cb44f",
   "metadata": {
    "tags": []
   },
   "outputs": [
    {
     "data": {
      "text/plain": [
       "Target\n",
       "1    0.533819\n",
       "0    0.466181\n",
       "Name: count, dtype: float64"
      ]
     },
     "execution_count": 224,
     "metadata": {},
     "output_type": "execute_result"
    }
   ],
   "source": [
    "predictions[\"Target\"].value_counts()/predictions.shape[0]"
   ]
  },
  {
   "cell_type": "code",
   "execution_count": 225,
   "id": "3a115bef-d925-4682-b360-5aafae371e72",
   "metadata": {
    "tags": []
   },
   "outputs": [],
   "source": [
    "# add more predictors to see if that improves our accuracy"
   ]
  },
  {
   "cell_type": "code",
   "execution_count": 226,
   "id": "096319ff-1a12-4dcd-8857-50701c1f4e41",
   "metadata": {
    "tags": []
   },
   "outputs": [],
   "source": [
    "# information regarding the stock 2 days, week, 3 months, year, and 4 years. find the ratio between today and the closing during those times\n",
    "# give the algorithm more information\n",
    "horizons = [2, 5, 60, 250, 1000]\n",
    "new_predictors = []\n",
    "\n",
    "for horizon in horizons:\n",
    "    rolling_averages = sp500.rolling(horizon).mean()\n",
    "    \n",
    "    ratio_column = f\"Close_Ratio{horizon}\"\n",
    "#     Todays close & average of 2 days, 5 days, ...\n",
    "    sp500[ratio_column] = sp500[\"Close\"] / rolling_averages[\"Close\"]\n",
    "    \n",
    "#      Sum of the number of days the sum actually went up\n",
    "    \n",
    "    trend_column = f\"Trend_{horizon}\"\n",
    "    sp500[trend_column] = sp500.shift(1).rolling(horizon).sum()[\"Target\"]\n",
    "    \n",
    "    \n",
    "    new_predictors += [ratio_column, trend_column]\n",
    "    "
   ]
  },
  {
   "cell_type": "code",
   "execution_count": 227,
   "id": "6bd4da31-c23f-4cc1-a248-b5940acab350",
   "metadata": {
    "tags": []
   },
   "outputs": [],
   "source": [
    "sp500 = sp500.dropna()"
   ]
  },
  {
   "cell_type": "code",
   "execution_count": 228,
   "id": "3a3cac65-42fc-43e2-9ee6-560eedbbbfb0",
   "metadata": {
    "tags": []
   },
   "outputs": [
    {
     "data": {
      "text/html": [
       "<div>\n",
       "<style scoped>\n",
       "    .dataframe tbody tr th:only-of-type {\n",
       "        vertical-align: middle;\n",
       "    }\n",
       "\n",
       "    .dataframe tbody tr th {\n",
       "        vertical-align: top;\n",
       "    }\n",
       "\n",
       "    .dataframe thead th {\n",
       "        text-align: right;\n",
       "    }\n",
       "</style>\n",
       "<table border=\"1\" class=\"dataframe\">\n",
       "  <thead>\n",
       "    <tr style=\"text-align: right;\">\n",
       "      <th></th>\n",
       "      <th>Open</th>\n",
       "      <th>High</th>\n",
       "      <th>Low</th>\n",
       "      <th>Close</th>\n",
       "      <th>Volume</th>\n",
       "      <th>Tomorrow</th>\n",
       "      <th>Target</th>\n",
       "      <th>Close_Ratio2</th>\n",
       "      <th>Trend_2</th>\n",
       "      <th>Close_Ratio5</th>\n",
       "      <th>Trend_5</th>\n",
       "      <th>Close_Ratio60</th>\n",
       "      <th>Trend_60</th>\n",
       "      <th>Close_Ratio250</th>\n",
       "      <th>Trend_250</th>\n",
       "      <th>Close_Ratio1000</th>\n",
       "      <th>Trend_1000</th>\n",
       "    </tr>\n",
       "    <tr>\n",
       "      <th>Date</th>\n",
       "      <th></th>\n",
       "      <th></th>\n",
       "      <th></th>\n",
       "      <th></th>\n",
       "      <th></th>\n",
       "      <th></th>\n",
       "      <th></th>\n",
       "      <th></th>\n",
       "      <th></th>\n",
       "      <th></th>\n",
       "      <th></th>\n",
       "      <th></th>\n",
       "      <th></th>\n",
       "      <th></th>\n",
       "      <th></th>\n",
       "      <th></th>\n",
       "      <th></th>\n",
       "    </tr>\n",
       "  </thead>\n",
       "  <tbody>\n",
       "    <tr>\n",
       "      <th>1993-12-14 00:00:00-05:00</th>\n",
       "      <td>465.730011</td>\n",
       "      <td>466.119995</td>\n",
       "      <td>462.459991</td>\n",
       "      <td>463.059998</td>\n",
       "      <td>275050000</td>\n",
       "      <td>461.839996</td>\n",
       "      <td>0</td>\n",
       "      <td>0.997157</td>\n",
       "      <td>1.0</td>\n",
       "      <td>0.996617</td>\n",
       "      <td>1.0</td>\n",
       "      <td>1.000283</td>\n",
       "      <td>32.0</td>\n",
       "      <td>1.028047</td>\n",
       "      <td>127.0</td>\n",
       "      <td>1.176082</td>\n",
       "      <td>512.0</td>\n",
       "    </tr>\n",
       "    <tr>\n",
       "      <th>1993-12-15 00:00:00-05:00</th>\n",
       "      <td>463.059998</td>\n",
       "      <td>463.690002</td>\n",
       "      <td>461.839996</td>\n",
       "      <td>461.839996</td>\n",
       "      <td>331770000</td>\n",
       "      <td>463.339996</td>\n",
       "      <td>1</td>\n",
       "      <td>0.998681</td>\n",
       "      <td>0.0</td>\n",
       "      <td>0.995899</td>\n",
       "      <td>1.0</td>\n",
       "      <td>0.997329</td>\n",
       "      <td>32.0</td>\n",
       "      <td>1.025151</td>\n",
       "      <td>126.0</td>\n",
       "      <td>1.172676</td>\n",
       "      <td>512.0</td>\n",
       "    </tr>\n",
       "    <tr>\n",
       "      <th>1993-12-16 00:00:00-05:00</th>\n",
       "      <td>461.859985</td>\n",
       "      <td>463.980011</td>\n",
       "      <td>461.859985</td>\n",
       "      <td>463.339996</td>\n",
       "      <td>284620000</td>\n",
       "      <td>466.380005</td>\n",
       "      <td>1</td>\n",
       "      <td>1.001621</td>\n",
       "      <td>1.0</td>\n",
       "      <td>0.999495</td>\n",
       "      <td>2.0</td>\n",
       "      <td>1.000311</td>\n",
       "      <td>32.0</td>\n",
       "      <td>1.028274</td>\n",
       "      <td>127.0</td>\n",
       "      <td>1.176163</td>\n",
       "      <td>513.0</td>\n",
       "    </tr>\n",
       "    <tr>\n",
       "      <th>1993-12-17 00:00:00-05:00</th>\n",
       "      <td>463.339996</td>\n",
       "      <td>466.380005</td>\n",
       "      <td>463.339996</td>\n",
       "      <td>466.380005</td>\n",
       "      <td>363750000</td>\n",
       "      <td>465.850006</td>\n",
       "      <td>0</td>\n",
       "      <td>1.003270</td>\n",
       "      <td>2.0</td>\n",
       "      <td>1.004991</td>\n",
       "      <td>3.0</td>\n",
       "      <td>1.006561</td>\n",
       "      <td>32.0</td>\n",
       "      <td>1.034781</td>\n",
       "      <td>128.0</td>\n",
       "      <td>1.183537</td>\n",
       "      <td>514.0</td>\n",
       "    </tr>\n",
       "    <tr>\n",
       "      <th>1993-12-20 00:00:00-05:00</th>\n",
       "      <td>466.380005</td>\n",
       "      <td>466.899994</td>\n",
       "      <td>465.529999</td>\n",
       "      <td>465.850006</td>\n",
       "      <td>255900000</td>\n",
       "      <td>465.299988</td>\n",
       "      <td>0</td>\n",
       "      <td>0.999431</td>\n",
       "      <td>1.0</td>\n",
       "      <td>1.003784</td>\n",
       "      <td>2.0</td>\n",
       "      <td>1.005120</td>\n",
       "      <td>32.0</td>\n",
       "      <td>1.033359</td>\n",
       "      <td>128.0</td>\n",
       "      <td>1.181856</td>\n",
       "      <td>513.0</td>\n",
       "    </tr>\n",
       "    <tr>\n",
       "      <th>...</th>\n",
       "      <td>...</td>\n",
       "      <td>...</td>\n",
       "      <td>...</td>\n",
       "      <td>...</td>\n",
       "      <td>...</td>\n",
       "      <td>...</td>\n",
       "      <td>...</td>\n",
       "      <td>...</td>\n",
       "      <td>...</td>\n",
       "      <td>...</td>\n",
       "      <td>...</td>\n",
       "      <td>...</td>\n",
       "      <td>...</td>\n",
       "      <td>...</td>\n",
       "      <td>...</td>\n",
       "      <td>...</td>\n",
       "      <td>...</td>\n",
       "    </tr>\n",
       "    <tr>\n",
       "      <th>2023-04-26 00:00:00-04:00</th>\n",
       "      <td>4087.780029</td>\n",
       "      <td>4089.669922</td>\n",
       "      <td>4049.350098</td>\n",
       "      <td>4055.989990</td>\n",
       "      <td>3837030000</td>\n",
       "      <td>4135.350098</td>\n",
       "      <td>1</td>\n",
       "      <td>0.998076</td>\n",
       "      <td>0.0</td>\n",
       "      <td>0.987918</td>\n",
       "      <td>2.0</td>\n",
       "      <td>1.002013</td>\n",
       "      <td>31.0</td>\n",
       "      <td>1.023652</td>\n",
       "      <td>115.0</td>\n",
       "      <td>1.087296</td>\n",
       "      <td>533.0</td>\n",
       "    </tr>\n",
       "    <tr>\n",
       "      <th>2023-04-27 00:00:00-04:00</th>\n",
       "      <td>4075.290039</td>\n",
       "      <td>4138.240234</td>\n",
       "      <td>4075.290039</td>\n",
       "      <td>4135.350098</td>\n",
       "      <td>3750550000</td>\n",
       "      <td>4169.479980</td>\n",
       "      <td>1</td>\n",
       "      <td>1.009688</td>\n",
       "      <td>1.0</td>\n",
       "      <td>1.006975</td>\n",
       "      <td>3.0</td>\n",
       "      <td>1.021371</td>\n",
       "      <td>31.0</td>\n",
       "      <td>1.043841</td>\n",
       "      <td>115.0</td>\n",
       "      <td>1.108197</td>\n",
       "      <td>534.0</td>\n",
       "    </tr>\n",
       "    <tr>\n",
       "      <th>2023-04-28 00:00:00-04:00</th>\n",
       "      <td>4129.629883</td>\n",
       "      <td>4170.060059</td>\n",
       "      <td>4127.180176</td>\n",
       "      <td>4169.479980</td>\n",
       "      <td>4087800000</td>\n",
       "      <td>4167.870117</td>\n",
       "      <td>0</td>\n",
       "      <td>1.004110</td>\n",
       "      <td>2.0</td>\n",
       "      <td>1.013511</td>\n",
       "      <td>3.0</td>\n",
       "      <td>1.029588</td>\n",
       "      <td>31.0</td>\n",
       "      <td>1.052416</td>\n",
       "      <td>116.0</td>\n",
       "      <td>1.116954</td>\n",
       "      <td>535.0</td>\n",
       "    </tr>\n",
       "    <tr>\n",
       "      <th>2023-05-01 00:00:00-04:00</th>\n",
       "      <td>4166.790039</td>\n",
       "      <td>4186.919922</td>\n",
       "      <td>4164.120117</td>\n",
       "      <td>4167.870117</td>\n",
       "      <td>3321370000</td>\n",
       "      <td>4119.580078</td>\n",
       "      <td>0</td>\n",
       "      <td>0.999807</td>\n",
       "      <td>1.0</td>\n",
       "      <td>1.011603</td>\n",
       "      <td>2.0</td>\n",
       "      <td>1.029241</td>\n",
       "      <td>30.0</td>\n",
       "      <td>1.051997</td>\n",
       "      <td>115.0</td>\n",
       "      <td>1.116138</td>\n",
       "      <td>534.0</td>\n",
       "    </tr>\n",
       "    <tr>\n",
       "      <th>2023-05-02 00:00:00-04:00</th>\n",
       "      <td>4164.100098</td>\n",
       "      <td>4164.100098</td>\n",
       "      <td>4089.719971</td>\n",
       "      <td>4119.580078</td>\n",
       "      <td>4486130000</td>\n",
       "      <td>4134.310059</td>\n",
       "      <td>1</td>\n",
       "      <td>0.994173</td>\n",
       "      <td>0.0</td>\n",
       "      <td>0.997561</td>\n",
       "      <td>2.0</td>\n",
       "      <td>1.017386</td>\n",
       "      <td>30.0</td>\n",
       "      <td>1.039867</td>\n",
       "      <td>114.0</td>\n",
       "      <td>1.102820</td>\n",
       "      <td>534.0</td>\n",
       "    </tr>\n",
       "  </tbody>\n",
       "</table>\n",
       "<p>7398 rows × 17 columns</p>\n",
       "</div>"
      ],
      "text/plain": [
       "                                  Open         High          Low        Close   \n",
       "Date                                                                            \n",
       "1993-12-14 00:00:00-05:00   465.730011   466.119995   462.459991   463.059998  \\\n",
       "1993-12-15 00:00:00-05:00   463.059998   463.690002   461.839996   461.839996   \n",
       "1993-12-16 00:00:00-05:00   461.859985   463.980011   461.859985   463.339996   \n",
       "1993-12-17 00:00:00-05:00   463.339996   466.380005   463.339996   466.380005   \n",
       "1993-12-20 00:00:00-05:00   466.380005   466.899994   465.529999   465.850006   \n",
       "...                                ...          ...          ...          ...   \n",
       "2023-04-26 00:00:00-04:00  4087.780029  4089.669922  4049.350098  4055.989990   \n",
       "2023-04-27 00:00:00-04:00  4075.290039  4138.240234  4075.290039  4135.350098   \n",
       "2023-04-28 00:00:00-04:00  4129.629883  4170.060059  4127.180176  4169.479980   \n",
       "2023-05-01 00:00:00-04:00  4166.790039  4186.919922  4164.120117  4167.870117   \n",
       "2023-05-02 00:00:00-04:00  4164.100098  4164.100098  4089.719971  4119.580078   \n",
       "\n",
       "                               Volume     Tomorrow  Target  Close_Ratio2   \n",
       "Date                                                                       \n",
       "1993-12-14 00:00:00-05:00   275050000   461.839996       0      0.997157  \\\n",
       "1993-12-15 00:00:00-05:00   331770000   463.339996       1      0.998681   \n",
       "1993-12-16 00:00:00-05:00   284620000   466.380005       1      1.001621   \n",
       "1993-12-17 00:00:00-05:00   363750000   465.850006       0      1.003270   \n",
       "1993-12-20 00:00:00-05:00   255900000   465.299988       0      0.999431   \n",
       "...                               ...          ...     ...           ...   \n",
       "2023-04-26 00:00:00-04:00  3837030000  4135.350098       1      0.998076   \n",
       "2023-04-27 00:00:00-04:00  3750550000  4169.479980       1      1.009688   \n",
       "2023-04-28 00:00:00-04:00  4087800000  4167.870117       0      1.004110   \n",
       "2023-05-01 00:00:00-04:00  3321370000  4119.580078       0      0.999807   \n",
       "2023-05-02 00:00:00-04:00  4486130000  4134.310059       1      0.994173   \n",
       "\n",
       "                           Trend_2  Close_Ratio5  Trend_5  Close_Ratio60   \n",
       "Date                                                                       \n",
       "1993-12-14 00:00:00-05:00      1.0      0.996617      1.0       1.000283  \\\n",
       "1993-12-15 00:00:00-05:00      0.0      0.995899      1.0       0.997329   \n",
       "1993-12-16 00:00:00-05:00      1.0      0.999495      2.0       1.000311   \n",
       "1993-12-17 00:00:00-05:00      2.0      1.004991      3.0       1.006561   \n",
       "1993-12-20 00:00:00-05:00      1.0      1.003784      2.0       1.005120   \n",
       "...                            ...           ...      ...            ...   \n",
       "2023-04-26 00:00:00-04:00      0.0      0.987918      2.0       1.002013   \n",
       "2023-04-27 00:00:00-04:00      1.0      1.006975      3.0       1.021371   \n",
       "2023-04-28 00:00:00-04:00      2.0      1.013511      3.0       1.029588   \n",
       "2023-05-01 00:00:00-04:00      1.0      1.011603      2.0       1.029241   \n",
       "2023-05-02 00:00:00-04:00      0.0      0.997561      2.0       1.017386   \n",
       "\n",
       "                           Trend_60  Close_Ratio250  Trend_250   \n",
       "Date                                                             \n",
       "1993-12-14 00:00:00-05:00      32.0        1.028047      127.0  \\\n",
       "1993-12-15 00:00:00-05:00      32.0        1.025151      126.0   \n",
       "1993-12-16 00:00:00-05:00      32.0        1.028274      127.0   \n",
       "1993-12-17 00:00:00-05:00      32.0        1.034781      128.0   \n",
       "1993-12-20 00:00:00-05:00      32.0        1.033359      128.0   \n",
       "...                             ...             ...        ...   \n",
       "2023-04-26 00:00:00-04:00      31.0        1.023652      115.0   \n",
       "2023-04-27 00:00:00-04:00      31.0        1.043841      115.0   \n",
       "2023-04-28 00:00:00-04:00      31.0        1.052416      116.0   \n",
       "2023-05-01 00:00:00-04:00      30.0        1.051997      115.0   \n",
       "2023-05-02 00:00:00-04:00      30.0        1.039867      114.0   \n",
       "\n",
       "                           Close_Ratio1000  Trend_1000  \n",
       "Date                                                    \n",
       "1993-12-14 00:00:00-05:00         1.176082       512.0  \n",
       "1993-12-15 00:00:00-05:00         1.172676       512.0  \n",
       "1993-12-16 00:00:00-05:00         1.176163       513.0  \n",
       "1993-12-17 00:00:00-05:00         1.183537       514.0  \n",
       "1993-12-20 00:00:00-05:00         1.181856       513.0  \n",
       "...                                    ...         ...  \n",
       "2023-04-26 00:00:00-04:00         1.087296       533.0  \n",
       "2023-04-27 00:00:00-04:00         1.108197       534.0  \n",
       "2023-04-28 00:00:00-04:00         1.116954       535.0  \n",
       "2023-05-01 00:00:00-04:00         1.116138       534.0  \n",
       "2023-05-02 00:00:00-04:00         1.102820       534.0  \n",
       "\n",
       "[7398 rows x 17 columns]"
      ]
     },
     "execution_count": 228,
     "metadata": {},
     "output_type": "execute_result"
    }
   ],
   "source": [
    "sp500"
   ]
  },
  {
   "cell_type": "code",
   "execution_count": 229,
   "id": "d27a5644-3f18-4976-a6f2-54ffd08d2df8",
   "metadata": {
    "tags": []
   },
   "outputs": [],
   "source": [
    "model = RandomForestClassifier(n_estimators = 200, min_samples_split=50, random_state = 1)"
   ]
  },
  {
   "cell_type": "code",
   "execution_count": 230,
   "id": "41e80005-98c3-48b2-8a56-49174a46089f",
   "metadata": {
    "tags": []
   },
   "outputs": [],
   "source": [
    "def predict(train, test, predictors, model):\n",
    "    model.fit(train[predictors], train[\"Target\"])\n",
    "    preds = model.predict_proba(test[predictors])[:, 1]\n",
    "#     reduce days we trade, but the day we make a trade its going to be almost positive \n",
    "    preds[preds >= .6] = 1\n",
    "    preds[preds < .6] = 0\n",
    "    preds = pd.Series(preds, index=test.index, name = \"Predictions\")\n",
    "    combined = pd.concat([test[\"Target\"], preds], axis=1)\n",
    "    return combined"
   ]
  },
  {
   "cell_type": "code",
   "execution_count": 231,
   "id": "b7230fc6-3eb2-4d88-85e8-9317af040500",
   "metadata": {
    "tags": []
   },
   "outputs": [],
   "source": [
    "predictions = backtest(sp500, model, predictors)"
   ]
  },
  {
   "cell_type": "code",
   "execution_count": 232,
   "id": "365e9cab-af00-4c5c-9c8f-9a3c3c5f720f",
   "metadata": {
    "tags": []
   },
   "outputs": [
    {
     "data": {
      "text/plain": [
       "Predictions\n",
       "0.0    4092\n",
       "1.0     806\n",
       "Name: count, dtype: int64"
      ]
     },
     "execution_count": 232,
     "metadata": {},
     "output_type": "execute_result"
    }
   ],
   "source": [
    "predictions[\"Predictions\"].value_counts()"
   ]
  },
  {
   "cell_type": "code",
   "execution_count": 233,
   "id": "7f3a8dde-8335-4189-bda8-b747ea7350e5",
   "metadata": {},
   "outputs": [
    {
     "data": {
      "text/plain": [
       "0.5421836228287841"
      ]
     },
     "execution_count": 233,
     "metadata": {},
     "output_type": "execute_result"
    }
   ],
   "source": [
    "precision_score(predictions[\"Target\"], predictions[\"Predictions\"])"
   ]
  },
  {
   "cell_type": "code",
   "execution_count": 234,
   "id": "66c86e61-5f1e-4ba3-8a24-9e0d50ea38d4",
   "metadata": {
    "tags": []
   },
   "outputs": [],
   "source": [
    "# Pretty good, 54% of the time it expects an increase in the market \n",
    "# Things to potentially add: News "
   ]
  }
 ],
 "metadata": {
  "kernelspec": {
   "display_name": "Python 3 (ipykernel)",
   "language": "python",
   "name": "python3"
  },
  "language_info": {
   "codemirror_mode": {
    "name": "ipython",
    "version": 3
   },
   "file_extension": ".py",
   "mimetype": "text/x-python",
   "name": "python",
   "nbconvert_exporter": "python",
   "pygments_lexer": "ipython3",
   "version": "3.11.3"
  }
 },
 "nbformat": 4,
 "nbformat_minor": 5
}
